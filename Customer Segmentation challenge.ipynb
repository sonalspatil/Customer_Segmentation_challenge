{
 "cells": [
  {
   "cell_type": "code",
   "execution_count": 1,
   "metadata": {},
   "outputs": [],
   "source": [
    "# Import libraries\n",
    "import pandas as pd\n",
    "import matplotlib.pyplot as plt\n",
    "%matplotlib inline\n",
    "import seaborn as sns\n",
    "import numpy as np"
   ]
  },
  {
   "cell_type": "markdown",
   "metadata": {},
   "source": [
    "# Load Dataset, Inspect Datatypes and check if there are any missing values\n"
   ]
  },
  {
   "cell_type": "code",
   "execution_count": 2,
   "metadata": {},
   "outputs": [
    {
     "name": "stdout",
     "output_type": "stream",
     "text": [
      "<class 'pandas.core.frame.DataFrame'>\n",
      "RangeIndex: 891 entries, 0 to 890\n",
      "Data columns (total 1 columns):\n",
      " #   Column                                                                                                                      Non-Null Count  Dtype \n",
      "---  ------                                                                                                                      --------------  ----- \n",
      " 0   customer_id,converted,customer_segment,gender,age,related_customers,family_size,initial_fee_level,credit_account_id,branch  891 non-null    object\n",
      "dtypes: object(1)\n",
      "memory usage: 7.1+ KB\n"
     ]
    }
   ],
   "source": [
    "# load the dataset\n",
    "df = pd.read_excel(\"Data_Scientist_-_Case_Dataset.xlsx\",sheet_name=0,sep=\",\")\n",
    "# check basic information\n",
    "df.info()"
   ]
  },
  {
   "cell_type": "code",
   "execution_count": 3,
   "metadata": {},
   "outputs": [
    {
     "data": {
      "text/html": [
       "<div>\n",
       "<style scoped>\n",
       "    .dataframe tbody tr th:only-of-type {\n",
       "        vertical-align: middle;\n",
       "    }\n",
       "\n",
       "    .dataframe tbody tr th {\n",
       "        vertical-align: top;\n",
       "    }\n",
       "\n",
       "    .dataframe thead th {\n",
       "        text-align: right;\n",
       "    }\n",
       "</style>\n",
       "<table border=\"1\" class=\"dataframe\">\n",
       "  <thead>\n",
       "    <tr style=\"text-align: right;\">\n",
       "      <th></th>\n",
       "      <th>customer_id,converted,customer_segment,gender,age,related_customers,family_size,initial_fee_level,credit_account_id,branch</th>\n",
       "    </tr>\n",
       "  </thead>\n",
       "  <tbody>\n",
       "    <tr>\n",
       "      <th>0</th>\n",
       "      <td>15001,0,13,male,22.0,1,0,14.5,9b2d5b4678781e53...</td>\n",
       "    </tr>\n",
       "    <tr>\n",
       "      <th>1</th>\n",
       "      <td>15002,1,11,female,38.0,1,0,142.5666,afa2dc179e...</td>\n",
       "    </tr>\n",
       "    <tr>\n",
       "      <th>2</th>\n",
       "      <td>15003,1,13,female,26.0,0,0,15.85,9b2d5b4678781...</td>\n",
       "    </tr>\n",
       "    <tr>\n",
       "      <th>3</th>\n",
       "      <td>15004,1,11,female,35.0,1,0,106.2,abefcf257b5d2...</td>\n",
       "    </tr>\n",
       "    <tr>\n",
       "      <th>4</th>\n",
       "      <td>15005,0,13,male,35.0,0,0,16.1,9b2d5b4678781e53...</td>\n",
       "    </tr>\n",
       "  </tbody>\n",
       "</table>\n",
       "</div>"
      ],
      "text/plain": [
       "  customer_id,converted,customer_segment,gender,age,related_customers,family_size,initial_fee_level,credit_account_id,branch\n",
       "0  15001,0,13,male,22.0,1,0,14.5,9b2d5b4678781e53...                                                                        \n",
       "1  15002,1,11,female,38.0,1,0,142.5666,afa2dc179e...                                                                        \n",
       "2  15003,1,13,female,26.0,0,0,15.85,9b2d5b4678781...                                                                        \n",
       "3  15004,1,11,female,35.0,1,0,106.2,abefcf257b5d2...                                                                        \n",
       "4  15005,0,13,male,35.0,0,0,16.1,9b2d5b4678781e53...                                                                        "
      ]
     },
     "execution_count": 3,
     "metadata": {},
     "output_type": "execute_result"
    }
   ],
   "source": [
    "df.head()"
   ]
  },
  {
   "cell_type": "raw",
   "metadata": {},
   "source": [
    "Data formatting issue. So, need to convert the dataframe in organised format"
   ]
  },
  {
   "cell_type": "code",
   "execution_count": 4,
   "metadata": {},
   "outputs": [
    {
     "name": "stdout",
     "output_type": "stream",
     "text": [
      "<class 'pandas.core.frame.DataFrame'>\n",
      "RangeIndex: 891 entries, 0 to 890\n",
      "Data columns (total 10 columns):\n",
      " #   Column             Non-Null Count  Dtype \n",
      "---  ------             --------------  ----- \n",
      " 0   customer_id        891 non-null    object\n",
      " 1   converted          891 non-null    object\n",
      " 2   customer_segment   891 non-null    object\n",
      " 3   gender             891 non-null    object\n",
      " 4   age                891 non-null    object\n",
      " 5   related_customers  891 non-null    object\n",
      " 6   family_size        891 non-null    object\n",
      " 7   initial_fee_level  891 non-null    object\n",
      " 8   credit_account_id  891 non-null    object\n",
      " 9   branch             891 non-null    object\n",
      "dtypes: object(10)\n",
      "memory usage: 69.7+ KB\n"
     ]
    }
   ],
   "source": [
    "cols=df.columns[0].split(\",\")\n",
    "\n",
    "new_rows=[]\n",
    "for i, row in df.iterrows():\n",
    "    for j, column in row.iteritems():\n",
    "        new_rows.append(column.split(\",\"))\n",
    "        \n",
    "dataset=pd.DataFrame(new_rows,columns=cols)\n",
    "dataset.info()"
   ]
  },
  {
   "cell_type": "code",
   "execution_count": 5,
   "metadata": {},
   "outputs": [
    {
     "data": {
      "text/plain": [
       "customer_id          0\n",
       "converted            0\n",
       "customer_segment     0\n",
       "gender               0\n",
       "age                  0\n",
       "related_customers    0\n",
       "family_size          0\n",
       "initial_fee_level    0\n",
       "credit_account_id    0\n",
       "branch               0\n",
       "dtype: int64"
      ]
     },
     "execution_count": 5,
     "metadata": {},
     "output_type": "execute_result"
    }
   ],
   "source": [
    "# find missing values \n",
    "dataset.isnull().sum()"
   ]
  },
  {
   "cell_type": "raw",
   "metadata": {},
   "source": [
    "None found since the datatypes are object type"
   ]
  },
  {
   "cell_type": "markdown",
   "metadata": {},
   "source": [
    "### All data types are 'Object' type"
   ]
  },
  {
   "cell_type": "code",
   "execution_count": 6,
   "metadata": {},
   "outputs": [
    {
     "name": "stdout",
     "output_type": "stream",
     "text": [
      "<class 'pandas.core.frame.DataFrame'>\n",
      "RangeIndex: 891 entries, 0 to 890\n",
      "Data columns (total 10 columns):\n",
      " #   Column             Non-Null Count  Dtype  \n",
      "---  ------             --------------  -----  \n",
      " 0   customer_id        891 non-null    object \n",
      " 1   converted          891 non-null    int64  \n",
      " 2   customer_segment   891 non-null    int64  \n",
      " 3   gender             891 non-null    object \n",
      " 4   age                714 non-null    float64\n",
      " 5   related_customers  891 non-null    int64  \n",
      " 6   family_size        891 non-null    int64  \n",
      " 7   initial_fee_level  891 non-null    float64\n",
      " 8   credit_account_id  891 non-null    object \n",
      " 9   branch             891 non-null    object \n",
      "dtypes: float64(2), int64(4), object(4)\n",
      "memory usage: 69.7+ KB\n"
     ]
    }
   ],
   "source": [
    "# convert the datatypes to correct format, i.e. Numeric where needed to process data properly\n",
    "dataset['converted']=pd.to_numeric(dataset['converted'], errors='coerce')\n",
    "dataset['age']=pd.to_numeric(dataset['age'], errors='coerce')\n",
    "dataset['customer_segment']=pd.to_numeric(dataset['customer_segment'], errors='coerce')\n",
    "dataset['family_size']=pd.to_numeric(dataset['family_size'], errors='coerce')\n",
    "dataset['initial_fee_level']=pd.to_numeric(dataset['initial_fee_level'], errors='coerce')\n",
    "dataset['related_customers']=pd.to_numeric(dataset['related_customers'], errors='coerce')\n",
    "dataset.info()"
   ]
  },
  {
   "cell_type": "markdown",
   "metadata": {},
   "source": [
    "## Handle missing and wrong datapoints"
   ]
  },
  {
   "cell_type": "code",
   "execution_count": 7,
   "metadata": {},
   "outputs": [
    {
     "data": {
      "text/plain": [
       "customer_id            0\n",
       "converted              0\n",
       "customer_segment       0\n",
       "gender                 0\n",
       "age                  177\n",
       "related_customers      0\n",
       "family_size            0\n",
       "initial_fee_level      0\n",
       "credit_account_id      0\n",
       "branch                 0\n",
       "dtype: int64"
      ]
     },
     "execution_count": 7,
     "metadata": {},
     "output_type": "execute_result"
    }
   ],
   "source": [
    "# find missing values again after proper formatting of dataframe\n",
    "dataset.isnull().sum()\n"
   ]
  },
  {
   "cell_type": "raw",
   "metadata": {},
   "source": [
    "177 missing values (NaNs) in 'age'. Most of the people must have left it blank while filling the information"
   ]
  },
  {
   "cell_type": "markdown",
   "metadata": {},
   "source": [
    "# Handling the NaNs in the dataframe"
   ]
  },
  {
   "cell_type": "code",
   "execution_count": 8,
   "metadata": {},
   "outputs": [
    {
     "name": "stdout",
     "output_type": "stream",
     "text": [
      "<class 'pandas.core.frame.DataFrame'>\n",
      "RangeIndex: 891 entries, 0 to 890\n",
      "Data columns (total 10 columns):\n",
      " #   Column             Non-Null Count  Dtype  \n",
      "---  ------             --------------  -----  \n",
      " 0   customer_id        891 non-null    object \n",
      " 1   converted          891 non-null    int64  \n",
      " 2   customer_segment   891 non-null    int64  \n",
      " 3   gender             891 non-null    object \n",
      " 4   age                891 non-null    float64\n",
      " 5   related_customers  891 non-null    int64  \n",
      " 6   family_size        891 non-null    int64  \n",
      " 7   initial_fee_level  891 non-null    float64\n",
      " 8   credit_account_id  891 non-null    object \n",
      " 9   branch             891 non-null    object \n",
      "dtypes: float64(2), int64(4), object(4)\n",
      "memory usage: 69.7+ KB\n"
     ]
    }
   ],
   "source": [
    "# replace NaNs by 0 in 'age' column\n",
    "# Not deleting the datapoints to avoid loss of information with regards to other poytential features, since removing the rows with null values removes the whole datapoint\n",
    "dataset['age'] = dataset['age'].replace(np.nan, 0)\n",
    "dataset.info()"
   ]
  },
  {
   "cell_type": "code",
   "execution_count": 9,
   "metadata": {},
   "outputs": [
    {
     "data": {
      "text/plain": [
       "age\n",
       "0.00     177\n",
       "0.42       1\n",
       "0.67       1\n",
       "0.75       2\n",
       "0.83       2\n",
       "        ... \n",
       "70.00      2\n",
       "70.50      1\n",
       "71.00      2\n",
       "74.00      1\n",
       "80.00      1\n",
       "Name: age, Length: 89, dtype: int64"
      ]
     },
     "execution_count": 9,
     "metadata": {},
     "output_type": "execute_result"
    }
   ],
   "source": [
    "dataset.groupby('age')['age'].count()"
   ]
  },
  {
   "cell_type": "raw",
   "metadata": {},
   "source": [
    "There are some wrong entries such as 0.42,0.67. \n",
    "Assumption : These are wrong entries which can be corrected by removing the floating point. Also, the floats are rounded of to whole number for easy processing "
   ]
  },
  {
   "cell_type": "code",
   "execution_count": 10,
   "metadata": {},
   "outputs": [],
   "source": [
    "# correcting the wrong entries and rounding up the numbers\n",
    "def correct_age(row):\n",
    "    if row['age']<1:\n",
    "        return row['age']*100\n",
    "    else:\n",
    "        return round(row['age'])\n",
    "\n",
    "dataset['age']=dataset.apply(correct_age,axis=1)"
   ]
  },
  {
   "cell_type": "code",
   "execution_count": 11,
   "metadata": {},
   "outputs": [],
   "source": [
    "# binning the age into groups by decade\n",
    "dataset['age_by_decade'] = pd.cut(x=dataset['age'], bins=[0,10,20, 29, 39, 49,59,69,79,89], labels=['10s','20s', '30s', '40s','50s','60s','70s','80s','90s'])"
   ]
  },
  {
   "cell_type": "markdown",
   "metadata": {},
   "source": [
    "# Handling categorical features"
   ]
  },
  {
   "cell_type": "code",
   "execution_count": 12,
   "metadata": {},
   "outputs": [
    {
     "data": {
      "text/plain": [
       "array(['male', 'female'], dtype=object)"
      ]
     },
     "execution_count": 12,
     "metadata": {},
     "output_type": "execute_result"
    }
   ],
   "source": [
    "# checking values for column 'gender'\n",
    "dataset['gender'].unique()"
   ]
  },
  {
   "cell_type": "code",
   "execution_count": 13,
   "metadata": {},
   "outputs": [],
   "source": [
    "# Encoding column 'gender' based on current dataset. And considering other category encoded as 3\n",
    "def change_val_gender(row):\n",
    "    if row['gender']=='female':\n",
    "        return 1\n",
    "    elif row['gender']=='male':\n",
    "        return 2\n",
    "    else:\n",
    "        return 3\n",
    "\n",
    "dataset['gender_enc']=dataset.apply(change_val_gender,axis=1)"
   ]
  },
  {
   "cell_type": "code",
   "execution_count": 14,
   "metadata": {},
   "outputs": [
    {
     "data": {
      "text/plain": [
       "array(['Helsinki', 'Tampere', 'Turku', ''], dtype=object)"
      ]
     },
     "execution_count": 14,
     "metadata": {},
     "output_type": "execute_result"
    }
   ],
   "source": [
    "# checking values for column 'gender'\n",
    "dataset['branch'].unique()"
   ]
  },
  {
   "cell_type": "code",
   "execution_count": 15,
   "metadata": {},
   "outputs": [],
   "source": [
    "# Encoding column 'branch' based on current dataset. And considering empty category encoded as 4\n",
    "def change_val_gender(row):\n",
    "    if row['branch']=='Helsinki':\n",
    "        return 1\n",
    "    elif row['branch']=='Tampere':\n",
    "        return 2\n",
    "    elif row['branch']=='Turku':\n",
    "        return 3\n",
    "    else:\n",
    "        return 4\n",
    "\n",
    "dataset['branch_enc']=dataset.apply(change_val_gender,axis=1)"
   ]
  },
  {
   "cell_type": "code",
   "execution_count": 16,
   "metadata": {},
   "outputs": [],
   "source": [
    "# column 'credit_account_id'\n",
    "# if customer has none it is shown as 9b2d5b4678781e53038e91ea5324530a03f27dc1d0e5f6c9bc9d493a23be9de0. \n",
    "# So using this information to create new column whether the customer has credit account or not\n",
    "def check_credit_account(row):\n",
    "    if \"9b2d5b4678781e53038e91ea5324530a03f27dc1d0e5f6c9bc9d493a23be9de0\" in row['credit_account_id'] :\n",
    "        return 0\n",
    "    else:\n",
    "        return 1\n",
    "    \n",
    "dataset['has_credit_account']=dataset.apply(check_credit_account,axis=1)"
   ]
  },
  {
   "cell_type": "code",
   "execution_count": 17,
   "metadata": {},
   "outputs": [
    {
     "data": {
      "text/html": [
       "<div>\n",
       "<style scoped>\n",
       "    .dataframe tbody tr th:only-of-type {\n",
       "        vertical-align: middle;\n",
       "    }\n",
       "\n",
       "    .dataframe tbody tr th {\n",
       "        vertical-align: top;\n",
       "    }\n",
       "\n",
       "    .dataframe thead th {\n",
       "        text-align: right;\n",
       "    }\n",
       "</style>\n",
       "<table border=\"1\" class=\"dataframe\">\n",
       "  <thead>\n",
       "    <tr style=\"text-align: right;\">\n",
       "      <th></th>\n",
       "      <th>customer_id</th>\n",
       "      <th>converted</th>\n",
       "      <th>customer_segment</th>\n",
       "      <th>gender</th>\n",
       "      <th>age</th>\n",
       "      <th>related_customers</th>\n",
       "      <th>family_size</th>\n",
       "      <th>initial_fee_level</th>\n",
       "      <th>credit_account_id</th>\n",
       "      <th>branch</th>\n",
       "      <th>age_by_decade</th>\n",
       "      <th>gender_enc</th>\n",
       "      <th>branch_enc</th>\n",
       "      <th>has_credit_account</th>\n",
       "    </tr>\n",
       "  </thead>\n",
       "  <tbody>\n",
       "    <tr>\n",
       "      <th>0</th>\n",
       "      <td>15001</td>\n",
       "      <td>0</td>\n",
       "      <td>13</td>\n",
       "      <td>male</td>\n",
       "      <td>22.0</td>\n",
       "      <td>1</td>\n",
       "      <td>0</td>\n",
       "      <td>14.5000</td>\n",
       "      <td>9b2d5b4678781e53038e91ea5324530a03f27dc1d0e5f6...</td>\n",
       "      <td>Helsinki</td>\n",
       "      <td>30s</td>\n",
       "      <td>2</td>\n",
       "      <td>1</td>\n",
       "      <td>0</td>\n",
       "    </tr>\n",
       "    <tr>\n",
       "      <th>1</th>\n",
       "      <td>15002</td>\n",
       "      <td>1</td>\n",
       "      <td>11</td>\n",
       "      <td>female</td>\n",
       "      <td>38.0</td>\n",
       "      <td>1</td>\n",
       "      <td>0</td>\n",
       "      <td>142.5666</td>\n",
       "      <td>afa2dc179e46e8456ffff9016f91396e9c6adf1fe20d17...</td>\n",
       "      <td>Tampere</td>\n",
       "      <td>40s</td>\n",
       "      <td>1</td>\n",
       "      <td>2</td>\n",
       "      <td>1</td>\n",
       "    </tr>\n",
       "    <tr>\n",
       "      <th>2</th>\n",
       "      <td>15003</td>\n",
       "      <td>1</td>\n",
       "      <td>13</td>\n",
       "      <td>female</td>\n",
       "      <td>26.0</td>\n",
       "      <td>0</td>\n",
       "      <td>0</td>\n",
       "      <td>15.8500</td>\n",
       "      <td>9b2d5b4678781e53038e91ea5324530a03f27dc1d0e5f6...</td>\n",
       "      <td>Helsinki</td>\n",
       "      <td>30s</td>\n",
       "      <td>1</td>\n",
       "      <td>1</td>\n",
       "      <td>0</td>\n",
       "    </tr>\n",
       "    <tr>\n",
       "      <th>3</th>\n",
       "      <td>15004</td>\n",
       "      <td>1</td>\n",
       "      <td>11</td>\n",
       "      <td>female</td>\n",
       "      <td>35.0</td>\n",
       "      <td>1</td>\n",
       "      <td>0</td>\n",
       "      <td>106.2000</td>\n",
       "      <td>abefcf257b5d2ff2816a68ec7c84ec8c11e0e0dc4f3425...</td>\n",
       "      <td>Helsinki</td>\n",
       "      <td>40s</td>\n",
       "      <td>1</td>\n",
       "      <td>1</td>\n",
       "      <td>1</td>\n",
       "    </tr>\n",
       "    <tr>\n",
       "      <th>4</th>\n",
       "      <td>15005</td>\n",
       "      <td>0</td>\n",
       "      <td>13</td>\n",
       "      <td>male</td>\n",
       "      <td>35.0</td>\n",
       "      <td>0</td>\n",
       "      <td>0</td>\n",
       "      <td>16.1000</td>\n",
       "      <td>9b2d5b4678781e53038e91ea5324530a03f27dc1d0e5f6...</td>\n",
       "      <td>Helsinki</td>\n",
       "      <td>40s</td>\n",
       "      <td>2</td>\n",
       "      <td>1</td>\n",
       "      <td>0</td>\n",
       "    </tr>\n",
       "  </tbody>\n",
       "</table>\n",
       "</div>"
      ],
      "text/plain": [
       "  customer_id  converted  customer_segment  gender   age  related_customers  \\\n",
       "0       15001          0                13    male  22.0                  1   \n",
       "1       15002          1                11  female  38.0                  1   \n",
       "2       15003          1                13  female  26.0                  0   \n",
       "3       15004          1                11  female  35.0                  1   \n",
       "4       15005          0                13    male  35.0                  0   \n",
       "\n",
       "   family_size  initial_fee_level  \\\n",
       "0            0            14.5000   \n",
       "1            0           142.5666   \n",
       "2            0            15.8500   \n",
       "3            0           106.2000   \n",
       "4            0            16.1000   \n",
       "\n",
       "                                   credit_account_id    branch age_by_decade  \\\n",
       "0  9b2d5b4678781e53038e91ea5324530a03f27dc1d0e5f6...  Helsinki           30s   \n",
       "1  afa2dc179e46e8456ffff9016f91396e9c6adf1fe20d17...   Tampere           40s   \n",
       "2  9b2d5b4678781e53038e91ea5324530a03f27dc1d0e5f6...  Helsinki           30s   \n",
       "3  abefcf257b5d2ff2816a68ec7c84ec8c11e0e0dc4f3425...  Helsinki           40s   \n",
       "4  9b2d5b4678781e53038e91ea5324530a03f27dc1d0e5f6...  Helsinki           40s   \n",
       "\n",
       "   gender_enc  branch_enc  has_credit_account  \n",
       "0           2           1                   0  \n",
       "1           1           2                   1  \n",
       "2           1           1                   0  \n",
       "3           1           1                   1  \n",
       "4           2           1                   0  "
      ]
     },
     "execution_count": 17,
     "metadata": {},
     "output_type": "execute_result"
    }
   ],
   "source": [
    "dataset.head()"
   ]
  },
  {
   "cell_type": "markdown",
   "metadata": {},
   "source": [
    "# Find correlations using Pearson Correlation Coefficient"
   ]
  },
  {
   "cell_type": "code",
   "execution_count": 18,
   "metadata": {},
   "outputs": [
    {
     "data": {
      "text/plain": [
       "<matplotlib.axes._subplots.AxesSubplot at 0x1a1b5460d0>"
      ]
     },
     "execution_count": 18,
     "metadata": {},
     "output_type": "execute_result"
    },
    {
     "data": {
      "image/png": "[encoded data removed]",
      "text/plain": [
       "<Figure size 720x576 with 2 Axes>"
      ]
     },
     "metadata": {
      "needs_background": "light"
     },
     "output_type": "display_data"
    }
   ],
   "source": [
    "# run correlation matrix and plot\n",
    "f, ax = plt.subplots(figsize=(10, 8))\n",
    "corr = dataset.corr()\n",
    "sns.heatmap(corr, mask=np.zeros_like(corr, dtype=np.bool),\n",
    "            cmap=sns.diverging_palette(220, 10, as_cmap=True),\n",
    "            square=True, ax=ax)"
   ]
  },
  {
   "cell_type": "code",
   "execution_count": 19,
   "metadata": {},
   "outputs": [
    {
     "data": {
      "text/html": [
       "<div>\n",
       "<style scoped>\n",
       "    .dataframe tbody tr th:only-of-type {\n",
       "        vertical-align: middle;\n",
       "    }\n",
       "\n",
       "    .dataframe tbody tr th {\n",
       "        vertical-align: top;\n",
       "    }\n",
       "\n",
       "    .dataframe thead th {\n",
       "        text-align: right;\n",
       "    }\n",
       "</style>\n",
       "<table border=\"1\" class=\"dataframe\">\n",
       "  <thead>\n",
       "    <tr style=\"text-align: right;\">\n",
       "      <th></th>\n",
       "      <th>converted</th>\n",
       "      <th>customer_segment</th>\n",
       "      <th>age</th>\n",
       "      <th>related_customers</th>\n",
       "      <th>family_size</th>\n",
       "      <th>initial_fee_level</th>\n",
       "      <th>gender_enc</th>\n",
       "      <th>branch_enc</th>\n",
       "      <th>has_credit_account</th>\n",
       "    </tr>\n",
       "  </thead>\n",
       "  <tbody>\n",
       "    <tr>\n",
       "      <th>converted</th>\n",
       "      <td>1.000000</td>\n",
       "      <td>-0.338481</td>\n",
       "      <td>0.050745</td>\n",
       "      <td>-0.035322</td>\n",
       "      <td>0.081629</td>\n",
       "      <td>0.257307</td>\n",
       "      <td>-0.543351</td>\n",
       "      <td>0.118026</td>\n",
       "      <td>0.316912</td>\n",
       "    </tr>\n",
       "    <tr>\n",
       "      <th>customer_segment</th>\n",
       "      <td>-0.338481</td>\n",
       "      <td>1.000000</td>\n",
       "      <td>-0.356485</td>\n",
       "      <td>0.083081</td>\n",
       "      <td>0.018443</td>\n",
       "      <td>-0.549500</td>\n",
       "      <td>0.131900</td>\n",
       "      <td>0.028566</td>\n",
       "      <td>-0.725541</td>\n",
       "    </tr>\n",
       "    <tr>\n",
       "      <th>age</th>\n",
       "      <td>0.050745</td>\n",
       "      <td>-0.356485</td>\n",
       "      <td>1.000000</td>\n",
       "      <td>-0.164569</td>\n",
       "      <td>-0.009732</td>\n",
       "      <td>0.138869</td>\n",
       "      <td>0.028436</td>\n",
       "      <td>-0.185097</td>\n",
       "      <td>0.258532</td>\n",
       "    </tr>\n",
       "    <tr>\n",
       "      <th>related_customers</th>\n",
       "      <td>-0.035322</td>\n",
       "      <td>0.083081</td>\n",
       "      <td>-0.164569</td>\n",
       "      <td>1.000000</td>\n",
       "      <td>0.414838</td>\n",
       "      <td>0.159651</td>\n",
       "      <td>-0.114631</td>\n",
       "      <td>-0.063794</td>\n",
       "      <td>-0.040460</td>\n",
       "    </tr>\n",
       "    <tr>\n",
       "      <th>family_size</th>\n",
       "      <td>0.081629</td>\n",
       "      <td>0.018443</td>\n",
       "      <td>-0.009732</td>\n",
       "      <td>0.414838</td>\n",
       "      <td>1.000000</td>\n",
       "      <td>0.216225</td>\n",
       "      <td>-0.245489</td>\n",
       "      <td>-0.082144</td>\n",
       "      <td>0.036987</td>\n",
       "    </tr>\n",
       "    <tr>\n",
       "      <th>initial_fee_level</th>\n",
       "      <td>0.257307</td>\n",
       "      <td>-0.549500</td>\n",
       "      <td>0.138869</td>\n",
       "      <td>0.159651</td>\n",
       "      <td>0.216225</td>\n",
       "      <td>1.000000</td>\n",
       "      <td>-0.182333</td>\n",
       "      <td>0.071010</td>\n",
       "      <td>0.482075</td>\n",
       "    </tr>\n",
       "    <tr>\n",
       "      <th>gender_enc</th>\n",
       "      <td>-0.543351</td>\n",
       "      <td>0.131900</td>\n",
       "      <td>0.028436</td>\n",
       "      <td>-0.114631</td>\n",
       "      <td>-0.245489</td>\n",
       "      <td>-0.182333</td>\n",
       "      <td>1.000000</td>\n",
       "      <td>-0.128526</td>\n",
       "      <td>-0.140391</td>\n",
       "    </tr>\n",
       "    <tr>\n",
       "      <th>branch_enc</th>\n",
       "      <td>0.118026</td>\n",
       "      <td>0.028566</td>\n",
       "      <td>-0.185097</td>\n",
       "      <td>-0.063794</td>\n",
       "      <td>-0.082144</td>\n",
       "      <td>0.071010</td>\n",
       "      <td>-0.128526</td>\n",
       "      <td>1.000000</td>\n",
       "      <td>0.032614</td>\n",
       "    </tr>\n",
       "    <tr>\n",
       "      <th>has_credit_account</th>\n",
       "      <td>0.316912</td>\n",
       "      <td>-0.725541</td>\n",
       "      <td>0.258532</td>\n",
       "      <td>-0.040460</td>\n",
       "      <td>0.036987</td>\n",
       "      <td>0.482075</td>\n",
       "      <td>-0.140391</td>\n",
       "      <td>0.032614</td>\n",
       "      <td>1.000000</td>\n",
       "    </tr>\n",
       "  </tbody>\n",
       "</table>\n",
       "</div>"
      ],
      "text/plain": [
       "                    converted  customer_segment       age  related_customers  \\\n",
       "converted            1.000000         -0.338481  0.050745          -0.035322   \n",
       "customer_segment    -0.338481          1.000000 -0.356485           0.083081   \n",
       "age                  0.050745         -0.356485  1.000000          -0.164569   \n",
       "related_customers   -0.035322          0.083081 -0.164569           1.000000   \n",
       "family_size          0.081629          0.018443 -0.009732           0.414838   \n",
       "initial_fee_level    0.257307         -0.549500  0.138869           0.159651   \n",
       "gender_enc          -0.543351          0.131900  0.028436          -0.114631   \n",
       "branch_enc           0.118026          0.028566 -0.185097          -0.063794   \n",
       "has_credit_account   0.316912         -0.725541  0.258532          -0.040460   \n",
       "\n",
       "                    family_size  initial_fee_level  gender_enc  branch_enc  \\\n",
       "converted              0.081629           0.257307   -0.543351    0.118026   \n",
       "customer_segment       0.018443          -0.549500    0.131900    0.028566   \n",
       "age                   -0.009732           0.138869    0.028436   -0.185097   \n",
       "related_customers      0.414838           0.159651   -0.114631   -0.063794   \n",
       "family_size            1.000000           0.216225   -0.245489   -0.082144   \n",
       "initial_fee_level      0.216225           1.000000   -0.182333    0.071010   \n",
       "gender_enc            -0.245489          -0.182333    1.000000   -0.128526   \n",
       "branch_enc            -0.082144           0.071010   -0.128526    1.000000   \n",
       "has_credit_account     0.036987           0.482075   -0.140391    0.032614   \n",
       "\n",
       "                    has_credit_account  \n",
       "converted                     0.316912  \n",
       "customer_segment             -0.725541  \n",
       "age                           0.258532  \n",
       "related_customers            -0.040460  \n",
       "family_size                   0.036987  \n",
       "initial_fee_level             0.482075  \n",
       "gender_enc                   -0.140391  \n",
       "branch_enc                    0.032614  \n",
       "has_credit_account            1.000000  "
      ]
     },
     "metadata": {},
     "output_type": "display_data"
    }
   ],
   "source": [
    "display(corr)"
   ]
  },
  {
   "cell_type": "raw",
   "metadata": {},
   "source": [
    "From the correlation values and the plot, it is clear that there is quite good linear correlation (-0.54) between 'converted' and 'gender' (from 'gender_enc') and there is some positive correlation (0.316) between 'has_credit_account' and 'converted'. There is also some correlation between 'converted' and 'initial_fee_level' (though not strong enough since it's 0.257 which is less that 0.30)\n",
    "\n",
    "Pearson's correlation coefficient is good for capturing linear relationships But it doesn't work really well for non-linear relationships which could be present between 'converted' and other features. It also doesn't capture the multiple correlations.\n",
    "\n",
    "Some of the other observations from the plot and table:\n",
    "1. Initial_fee_level has good correlation with has_credit_account so combining initial_fee_level and has_credit_account could be highly correlated with 'converted' \n",
    "2.  customer_segment and has_credit_account is highly correlated (-0.725). Also it has good correlation with 'initial_fee_level' \n",
    "3. family_size and related_customes are also correlated (0.41)"
   ]
  },
  {
   "cell_type": "markdown",
   "metadata": {},
   "source": [
    "# (chi²) statistical test for best features selection"
   ]
  },
  {
   "cell_type": "code",
   "execution_count": 20,
   "metadata": {},
   "outputs": [
    {
     "name": "stdout",
     "output_type": "stream",
     "text": [
      "                Specs        Score\n",
      "1   initial_fee_level  9036.638181\n",
      "2  has_credit_account    68.997412\n",
      "3          gender_enc    36.436861\n",
      "0                 age    30.708536\n",
      "5         family_size    10.097499\n",
      "4    customer_segment     5.790754\n",
      "7          branch_enc     3.800456\n",
      "6   related_customers     2.581865\n"
     ]
    }
   ],
   "source": [
    "# Using the chi-squared (chi²) statistical test for non-negative features to select 5 best features\n",
    "from sklearn.feature_selection import SelectKBest\n",
    "from sklearn.feature_selection import chi2\n",
    "\n",
    "X = dataset[[\"age\",\"initial_fee_level\",\"has_credit_account\",\"gender_enc\",\"customer_segment\",\"family_size\",\"related_customers\",\"branch_enc\"]\n",
    "           ]\n",
    "y = dataset[\"converted\"]\n",
    "\n",
    "# apply SelectKBest class to extract top 5 best features\n",
    "bestfeatures = SelectKBest(score_func=chi2, k=5)\n",
    "fit = bestfeatures.fit(X,y)\n",
    "dfscores = pd.DataFrame(fit.scores_)\n",
    "dfcolumns = pd.DataFrame(X.columns)\n",
    "# concat two dataframes for better visualization \n",
    "featureScores = pd.concat([dfcolumns,dfscores],axis=1)\n",
    "featureScores.columns = ['Specs','Score']  #naming the dataframe columns\n",
    "print(featureScores.nlargest(10,'Score'))  #print 10 best features"
   ]
  },
  {
   "cell_type": "raw",
   "metadata": {},
   "source": [
    "Hence it can be seen, using chi2 test best features are initial_fee_level, has_credit_Account, gender, age, familysize"
   ]
  },
  {
   "cell_type": "markdown",
   "metadata": {},
   "source": [
    "# Using visualizations for some features to observe correlations"
   ]
  },
  {
   "cell_type": "markdown",
   "metadata": {},
   "source": [
    "## Gender and Customers converted"
   ]
  },
  {
   "cell_type": "code",
   "execution_count": 21,
   "metadata": {},
   "outputs": [
    {
     "data": {
      "image/png": "[encoded data removed]",
      "text/plain": [
       "<Figure size 1080x720 with 1 Axes>"
      ]
     },
     "metadata": {
      "needs_background": "light"
     },
     "output_type": "display_data"
    }
   ],
   "source": [
    "gender_patterns=dataset.groupby(['gender','converted'])['customer_id'].count()\n",
    "gender_patterns_df = pd.DataFrame(gender_patterns.unstack(level = 1))\n",
    "gender_patterns_df.plot(kind='bar',figsize=(15,10))\n",
    "plt.legend(['customers not converted','customers converted'])\n",
    "plt.ylabel('no. of customers')\n",
    "\n",
    "plt.show()"
   ]
  },
  {
   "cell_type": "raw",
   "metadata": {},
   "source": [
    "Observation:\n",
    "Females are more converted customers compared to male customers"
   ]
  },
  {
   "cell_type": "markdown",
   "metadata": {},
   "source": [
    "## Initial fee level and customers converted"
   ]
  },
  {
   "cell_type": "code",
   "execution_count": 22,
   "metadata": {},
   "outputs": [],
   "source": [
    "# binning initial fee level among different fee groups\n",
    "\n",
    "## Assumption : There are few rows where values for initial_fee_level is 0. \n",
    "## It is assumed that it probably has given as free trial to customers as promotional offer or new customer benefits.\n",
    "\n",
    "dataset['initial_fee_group'] = pd.cut(x=dataset['initial_fee_level'], bins=[-1,0,20,50,100,200,500,1000], labels=['free trial','less than 20','20-50','50-100','100-200','200-500','500-1000'])"
   ]
  },
  {
   "cell_type": "code",
   "execution_count": 23,
   "metadata": {},
   "outputs": [
    {
     "data": {
      "image/png": "[encoded data removed]",
      "text/plain": [
       "<Figure size 1080x720 with 1 Axes>"
      ]
     },
     "metadata": {
      "needs_background": "light"
     },
     "output_type": "display_data"
    }
   ],
   "source": [
    "initial_fee_patterns=dataset.groupby(['initial_fee_group','converted'])['customer_id'].count()\n",
    "initial_fee_patterns_df = pd.DataFrame(initial_fee_patterns.unstack(level = 1))\n",
    "initial_fee_patterns_df.plot(kind='bar',figsize=(15,10))\n",
    "plt.legend(['customers not converted','customers converted'])\n",
    "plt.ylabel('no. of customers')\n",
    "\n",
    "plt.show()"
   ]
  },
  {
   "cell_type": "raw",
   "metadata": {},
   "source": [
    "Observation : \n",
    "    1. The customes with free trial usually tend not to convert. \n",
    "    2. There are customers with initial_fee_level higher than 100 are converted more compared to those below 50. \n",
    "    There is clear increase in conversion rate after the higher service fee. \n",
    "    Probably it means when people wants to try the service they spend less money initially before deciding \n",
    "    whether they want to stay 'converted' or not. Once they are sure, they are ready to spend. \n",
    "    So, initial fee level can also help in finding relationship with 'converted'"
   ]
  },
  {
   "cell_type": "markdown",
   "metadata": {},
   "source": [
    "# Relationship between Customers converted and customer_segment"
   ]
  },
  {
   "cell_type": "code",
   "execution_count": 24,
   "metadata": {},
   "outputs": [
    {
     "data": {
      "image/png": "[encoded data removed]",
      "text/plain": [
       "<Figure size 1080x720 with 1 Axes>"
      ]
     },
     "metadata": {
      "needs_background": "light"
     },
     "output_type": "display_data"
    }
   ],
   "source": [
    "segment_patterns=dataset.groupby(['customer_segment','converted'])['customer_id'].count()\n",
    "segment_patterns_df = pd.DataFrame(segment_patterns.unstack(level = 1))\n",
    "segment_patterns_df.plot(kind='bar',figsize=(15,10))\n",
    "plt.legend(['customers not converted','customers converted'])\n",
    "plt.ylabel('no. of customers')\n",
    "\n",
    "plt.show()"
   ]
  },
  {
   "cell_type": "raw",
   "metadata": {},
   "source": [
    "Observation:\n",
    "    Customers with customer segment 11 are more converted than those with 13. Customer segment 12 is comparatively stable. \n",
    "    "
   ]
  },
  {
   "cell_type": "markdown",
   "metadata": {},
   "source": [
    "## Relationship among credit account, age and converted"
   ]
  },
  {
   "cell_type": "code",
   "execution_count": 25,
   "metadata": {},
   "outputs": [
    {
     "data": {
      "image/png": "[encoded data removed]",
      "text/plain": [
       "<Figure size 1080x720 with 1 Axes>"
      ]
     },
     "metadata": {
      "needs_background": "light"
     },
     "output_type": "display_data"
    }
   ],
   "source": [
    "credit_patterns=dataset.groupby(['converted','has_credit_account'])['customer_id'].count()\n",
    "credit_patterns_df = pd.DataFrame(credit_patterns.unstack(level = 1))\n",
    "credit_patterns_df.plot(kind='bar',figsize=(15,10))\n",
    "plt.legend(['customers without credit account','customers with credit account'])\n",
    "plt.ylabel('no. of customers')\n",
    "\n",
    "plt.show()"
   ]
  },
  {
   "cell_type": "raw",
   "metadata": {},
   "source": [
    "Observation:\n",
    "Customers without credit account are less converted customers compared to those with credit account. "
   ]
  },
  {
   "cell_type": "code",
   "execution_count": 26,
   "metadata": {},
   "outputs": [
    {
     "data": {
      "image/png": "[encoded data removed]",
      "text/plain": [
       "<Figure size 1080x720 with 1 Axes>"
      ]
     },
     "metadata": {
      "needs_background": "light"
     },
     "output_type": "display_data"
    }
   ],
   "source": [
    "age_patterns=dataset.groupby(['age_by_decade','converted'])['customer_id'].count()\n",
    "age_patterns_df = pd.DataFrame(age_patterns.unstack(level = 1))\n",
    "age_patterns_df.plot(kind='bar',figsize=(15,10))\n",
    "plt.legend(['customers not converted','customers converted'])\n",
    "plt.ylabel('no. of customers')\n",
    "\n",
    "plt.show()"
   ]
  },
  {
   "cell_type": "raw",
   "metadata": {},
   "source": [
    "Observation:\n",
    "    1. Feature 'age' is hard to be mapped linearly with 'converted' from the plot. \n",
    "    The samples are normally distributed with few outliers like 90s. \n",
    "    2. People in 40s are the most reliable ones who are converted customers compared to not converted in that age group. \n",
    "    3. People in 30s and 40s are most converted customers overall. \n",
    "    4. People in below age 30 are less converted probably due to credit account. The slope is increasing until 40s. After that it is decreasing again.\n",
    "    5. After age 50, less customers are converted probably due to age.\n",
    "    There is non linear relationship between age and converted\n",
    "    \n",
    "   "
   ]
  },
  {
   "cell_type": "code",
   "execution_count": 27,
   "metadata": {},
   "outputs": [
    {
     "data": {
      "image/png": "[encoded data removed]",
      "text/plain": [
       "<Figure size 1080x720 with 1 Axes>"
      ]
     },
     "metadata": {
      "needs_background": "light"
     },
     "output_type": "display_data"
    }
   ],
   "source": [
    "age_credit_patterns=dataset.groupby(['age_by_decade','has_credit_account'])['customer_id'].count()\n",
    "age_credit_patterns_df = pd.DataFrame(age_credit_patterns.unstack(level = 1))\n",
    "age_credit_patterns_df.plot(kind='bar',figsize=(15,10))\n",
    "plt.legend(['customers without credit account','customers with credit account'])\n",
    "plt.ylabel('no. of customers')\n",
    "\n",
    "plt.show()"
   ]
  },
  {
   "cell_type": "raw",
   "metadata": {},
   "source": [
    "Observation:\n",
    "There is relation between credit account and age. People below age group 40 are without credit account. Probably that's the reason they are less converted. Hence people after age 50 are converted but overall customers in those age groups are less.\n",
    "     \n",
    "     So along with age, whether the customer has credit account or not, can be useful for checking whether the customer is converted or not"
   ]
  },
  {
   "cell_type": "markdown",
   "metadata": {},
   "source": [
    "## Family size, related customers and converted"
   ]
  },
  {
   "cell_type": "code",
   "execution_count": 28,
   "metadata": {},
   "outputs": [
    {
     "data": {
      "image/png": "[encoded data removed]",
      "text/plain": [
       "<Figure size 1080x720 with 1 Axes>"
      ]
     },
     "metadata": {
      "needs_background": "light"
     },
     "output_type": "display_data"
    }
   ],
   "source": [
    "family_size_patterns=dataset.groupby(['family_size','converted'])['customer_id'].count()\n",
    "family_size_patterns_df = pd.DataFrame(family_size_patterns.unstack(level = 1))\n",
    "family_size_patterns_df.plot(kind='bar',figsize=(15,10))\n",
    "plt.legend(['customers not converted','customers converted'])\n",
    "plt.ylabel('no. of customers')\n",
    "\n",
    "plt.show()"
   ]
  },
  {
   "cell_type": "code",
   "execution_count": 29,
   "metadata": {},
   "outputs": [
    {
     "data": {
      "image/png": "[encoded data removed]",
      "text/plain": [
       "<Figure size 1080x720 with 1 Axes>"
      ]
     },
     "metadata": {
      "needs_background": "light"
     },
     "output_type": "display_data"
    }
   ],
   "source": [
    "related_customers_patterns=dataset.groupby(['related_customers','converted'])['customer_id'].count()\n",
    "related_customers_patterns_df = pd.DataFrame(related_customers_patterns.unstack(level = 1))\n",
    "related_customers_patterns_df.plot(kind='bar',figsize=(15,10))\n",
    "plt.legend(['customers not converted','customers converted'])\n",
    "plt.ylabel('no. of customers')\n",
    "\n",
    "plt.show()"
   ]
  },
  {
   "cell_type": "raw",
   "metadata": {},
   "source": [
    "Observation:\n",
    "    The relationship between family_size and converted is also nonlinear from the plots. \n",
    "    Same is the case with related_customers and converted. It can be clearly observed those \n",
    "    with family size or related customers, more than 0 and upto 1 or 2, are likely to be converted customers. Those with\n",
    "    familysize 0 have more chance of not converting. Family size and related customers can be correlated. \n",
    "   \n",
    "    "
   ]
  },
  {
   "cell_type": "raw",
   "metadata": {},
   "source": [
    "Conclusion: \n",
    "From Pearson correlation coefficient, chi2 test for best feature selection and visulizations \"Gender\", \"initial_fee_level\", \"has_credit_account\" (\"credit_account_id\"), \"Age\", \"family_size\" or \"related_customers\" seems to to be most important factors for predicting whether the customer is 'converted' or not. "
   ]
  }
 ],
 "metadata": {
  "kernelspec": {
   "display_name": "Python 3",
   "language": "python",
   "name": "python3"
  },
  "language_info": {
   "codemirror_mode": {
    "name": "ipython",
    "version": 3
   },
   "file_extension": ".py",
   "mimetype": "text/x-python",
   "name": "python",
   "nbconvert_exporter": "python",
   "pygments_lexer": "ipython3",
   "version": "3.7.6"
  }
 },
 "nbformat": 4,
 "nbformat_minor": 4
}
